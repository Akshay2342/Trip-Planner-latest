{
 "cells": [
  {
   "cell_type": "code",
   "execution_count": 1,
   "metadata": {},
   "outputs": [
    {
     "name": "stdout",
     "output_type": "stream",
     "text": [
      "Requirement already satisfied: requests in c:\\users\\kchar\\appdata\\local\\programs\\python\\python312\\lib\\site-packages (2.32.3)\n",
      "Collecting beautifulsoup4\n",
      "  Downloading beautifulsoup4-4.12.3-py3-none-any.whl.metadata (3.8 kB)\n",
      "Requirement already satisfied: charset-normalizer<4,>=2 in c:\\users\\kchar\\appdata\\local\\programs\\python\\python312\\lib\\site-packages (from requests) (3.3.2)\n",
      "Requirement already satisfied: idna<4,>=2.5 in c:\\users\\kchar\\appdata\\local\\programs\\python\\python312\\lib\\site-packages (from requests) (3.7)\n",
      "Requirement already satisfied: urllib3<3,>=1.21.1 in c:\\users\\kchar\\appdata\\local\\programs\\python\\python312\\lib\\site-packages (from requests) (2.2.2)\n",
      "Requirement already satisfied: certifi>=2017.4.17 in c:\\users\\kchar\\appdata\\local\\programs\\python\\python312\\lib\\site-packages (from requests) (2024.6.2)\n",
      "Collecting soupsieve>1.2 (from beautifulsoup4)\n",
      "  Downloading soupsieve-2.5-py3-none-any.whl.metadata (4.7 kB)\n",
      "Downloading beautifulsoup4-4.12.3-py3-none-any.whl (147 kB)\n",
      "   ---------------------------------------- 0.0/147.9 kB ? eta -:--:--\n",
      "   -- ------------------------------------- 10.2/147.9 kB ? eta -:--:--\n",
      "   ---------------- ---------------------- 61.4/147.9 kB 812.7 kB/s eta 0:00:01\n",
      "   ---------------------------------------- 147.9/147.9 kB 1.5 MB/s eta 0:00:00\n",
      "Downloading soupsieve-2.5-py3-none-any.whl (36 kB)\n",
      "Installing collected packages: soupsieve, beautifulsoup4\n",
      "Successfully installed beautifulsoup4-4.12.3 soupsieve-2.5\n",
      "Note: you may need to restart the kernel to use updated packages.\n"
     ]
    },
    {
     "name": "stderr",
     "output_type": "stream",
     "text": [
      "\n",
      "[notice] A new release of pip is available: 24.0 -> 24.1.2\n",
      "[notice] To update, run: python.exe -m pip install --upgrade pip\n"
     ]
    }
   ],
   "source": [
    "%pip install requests beautifulsoup4\n"
   ]
  },
  {
   "cell_type": "code",
   "execution_count": 3,
   "metadata": {},
   "outputs": [
    {
     "name": "stdout",
     "output_type": "stream",
     "text": [
      "Could not save image 1: Invalid URL '/images/branding/searchlogo/1x/googlelogo_desk_heirloom_color_150x55dp.gif': No scheme supplied. Perhaps you meant https:///images/branding/searchlogo/1x/googlelogo_desk_heirloom_color_150x55dp.gif?\n",
      "Saved 3 images to ooty_food_images\n"
     ]
    }
   ],
   "source": [
    "import os\n",
    "import requests\n",
    "from bs4 import BeautifulSoup\n",
    "\n",
    "def fetch_image_urls(query, max_links_to_fetch):\n",
    "    search_url = \"https://www.google.com/search?tbm=isch&q={q}\"\n",
    "    query = query + \" food\"\n",
    "    search_url = search_url.format(q=query)\n",
    "\n",
    "    response = requests.get(search_url)\n",
    "    soup = BeautifulSoup(response.text, 'html.parser')\n",
    "    image_elements = soup.find_all('img')\n",
    "\n",
    "    image_urls = []\n",
    "    for element in image_elements[:max_links_to_fetch]:\n",
    "        try:\n",
    "            image_url = element['src']\n",
    "            image_urls.append(image_url)\n",
    "        except KeyError:\n",
    "            continue\n",
    "\n",
    "    return image_urls\n",
    "\n",
    "def save_images(image_urls, folder_path):\n",
    "    if not os.path.exists(folder_path):\n",
    "        os.makedirs(folder_path)\n",
    "\n",
    "    for idx, url in enumerate(image_urls):\n",
    "        try:\n",
    "            image_content = requests.get(url).content\n",
    "            with open(os.path.join(folder_path, f'image_{idx + 1}.jpg'), 'wb') as image_file:\n",
    "                image_file.write(image_content)\n",
    "        except Exception as e:\n",
    "            print(f\"Could not save image {idx + 1}: {e}\")\n",
    "\n",
    "def scrape_food_images(place, num_images):\n",
    "    query = f\"{place} food\"\n",
    "    image_urls = fetch_image_urls(query, num_images)\n",
    "    folder_path = f\"{place}_food_images\"\n",
    "    save_images(image_urls, folder_path)\n",
    "    print(f\"Saved {len(image_urls)} images to {folder_path}\")\n",
    "\n",
    "if __name__ == '__main__':\n",
    "    place = input(\"Enter the place: \")\n",
    "    num_images = int(input(\"Enter the number of images to fetch: \"))\n",
    "    scrape_food_images(place, num_images)\n"
   ]
  }
 ],
 "metadata": {
  "kernelspec": {
   "display_name": "Python 3",
   "language": "python",
   "name": "python3"
  },
  "language_info": {
   "codemirror_mode": {
    "name": "ipython",
    "version": 3
   },
   "file_extension": ".py",
   "mimetype": "text/x-python",
   "name": "python",
   "nbconvert_exporter": "python",
   "pygments_lexer": "ipython3",
   "version": "3.12.3"
  }
 },
 "nbformat": 4,
 "nbformat_minor": 2
}
